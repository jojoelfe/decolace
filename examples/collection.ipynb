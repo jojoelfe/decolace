{
 "cells": [
  {
   "attachments": {},
   "cell_type": "markdown",
   "metadata": {},
   "source": [
    "# Collecting Data using DeCo-LACE\n",
    "\n",
    "## Preparation\n",
    "\n",
    "### Considerations\n",
    "\n",
    "- Choose magnification. A good starting point is 1A/pixel.\n",
    "\n",
    "### Over vacuum\n",
    "\n",
    "#### Energy filter alignment\n",
    "\n",
    "- Go to desired magnification. Insert 150micron C2 and condens the beam to basrely cover the camera and choos spot size 2.\n",
    "- STart Align energy fiilter full in DM\n",
    "\n",
    "#### Gain reference\n",
    "\n",
    "- Make sure camera is in CDS mode\n",
    "- Go to spot size 2 and generously expand the beam.\n",
    "- Start gain reference for linear mode.\n",
    "- Got to spot size around 8.\n",
    "- Collect gain for counting mode.\n",
    "\n",
    "#### Collect all LMMs\n",
    "\n",
    "#### Alignment\n",
    "\n",
    "- Insert largest C2 that allows you to condense the beam onto the camera while maintaining parallel illumination. This might be the smalles one.\n",
    "- Center C2.\n",
    "\n",
    "\n",
    "\n",
    "#### Set up beam\n",
    "\n",
    "- Condense beam to be contained on camera and choose spot size so the dose is around 16 e/pix/s.\n",
    "- Focus until C2 aperture is in focus (fringe-free). Note the nominal focus position.\n",
    "- Measure beam diameter\n",
    "- Measure accurate dose rate in illuminated area (easist to start a counting mode gain reference)\n",
    "- Record mode should align movies, save frames, and binning set to 4\n",
    "\n",
    "### Cross grating grid\n",
    "\n",
    "- Go over a square and do rough eucentric height (Note stage Z-position).\n",
    "- Take record image and check defocus by fft.\n",
    "- Adjust focus level until at 1um defocus. Note the difference in nominal focus now and at fringe-free condition. Should be around 30um\n",
    "- Move stage by the distance. \n",
    "- Focus until in fringe-free condition\n",
    "- Take record  image and determine defocus by FFT\n",
    "- Change Z-position until defocus is 1 um. Note the difference in stage height between here and eucentric height. \n",
    "- ALign record and view modes"
   ]
  }
 ],
 "metadata": {
  "language_info": {
   "name": "python"
  },
  "orig_nbformat": 4
 },
 "nbformat": 4,
 "nbformat_minor": 2
}
